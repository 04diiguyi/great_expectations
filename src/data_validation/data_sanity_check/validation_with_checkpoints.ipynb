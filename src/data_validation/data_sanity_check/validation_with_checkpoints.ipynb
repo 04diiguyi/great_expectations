{
 "cells": [
  {
   "cell_type": "code",
   "execution_count": 1,
   "id": "1f43a714",
   "metadata": {},
   "outputs": [
    {
     "name": "stdout",
     "output_type": "stream",
     "text": [
      "C:\\Users\\guyi\\Documents\\projects\\great_expectations\\src\n"
     ]
    }
   ],
   "source": [
    "import os\n",
    "import sys\n",
    "import pandas as pd\n",
    "\n",
    "current_path = os.getcwd()\n",
    "root_path = os.path.abspath(os.path.join('../..'))\n",
    "\n",
    "print(root_path)"
   ]
  },
  {
   "cell_type": "code",
   "execution_count": 2,
   "id": "bfc7d1ff",
   "metadata": {},
   "outputs": [
    {
     "name": "stdout",
     "output_type": "stream",
     "text": [
      "C:\\Users\\guyi\\Documents\\projects\\great_expectations\\src\\data_validation\\util\n"
     ]
    }
   ],
   "source": [
    "# util and data_sanity_check folders arein the same level\n",
    "util_path = os.path.abspath(os.path.join('../util/'))\n",
    "\n",
    "print(util_path)"
   ]
  },
  {
   "cell_type": "code",
   "execution_count": 3,
   "id": "e375210c",
   "metadata": {},
   "outputs": [],
   "source": [
    "if util_path not in sys.path:\n",
    "    sys.path.append(util_path)"
   ]
  },
  {
   "cell_type": "code",
   "execution_count": 4,
   "id": "c8b5583a",
   "metadata": {},
   "outputs": [],
   "source": [
    "from project_config import get_project_config_local"
   ]
  },
  {
   "cell_type": "code",
   "execution_count": 5,
   "id": "4724dc6c",
   "metadata": {},
   "outputs": [
    {
     "name": "stdout",
     "output_type": "stream",
     "text": [
      "C:\\Users\\guyi\\Documents\\projects\\great_expectations\\src\\data\n",
      "C:\\Users\\guyi\\Documents\\projects\\great_expectations\\src\\great_expectations\\expectations\n",
      "C:\\Users\\guyi\\Documents\\projects\\great_expectations\\src\\great_expectations\\validations\n",
      "C:\\Users\\guyi\\Documents\\projects\\great_expectations\\src\\great_expectations\\checkpoints\n",
      "C:\\Users\\guyi\\Documents\\projects\\great_expectations\\src\\great_expectations\\uncommitted/data_docs/local_site/\n",
      "{\n",
      "  \"anonymous_usage_statistics\": {\n",
      "    \"enabled\": true,\n",
      "    \"data_context_id\": \"ba344f21-c1e5-4fe9-af77-1423a7a1a862\",\n",
      "    \"usage_statistics_url\": \"https://stats.greatexpectations.io/great_expectations/v1/usage_statistics\",\n",
      "    \"explicit_url\": false,\n",
      "    \"explicit_id\": false\n",
      "  },\n",
      "  \"checkpoint_store_name\": \"checkpoint_store\",\n",
      "  \"config_version\": 3,\n",
      "  \"data_docs_sites\": {\n",
      "    \"local_site\": {\n",
      "      \"class_name\": \"SiteBuilder\",\n",
      "      \"show_how_to_buttons\": \"true\",\n",
      "      \"store_backend\": {\n",
      "        \"class_name\": \"TupleFilesystemStoreBackend\",\n",
      "        \"base_directory\": \"C:\\\\Users\\\\guyi\\\\Documents\\\\projects\\\\great_expectations\\\\src\\\\great_expectations\\\\uncommitted/data_docs/local_site/\"\n",
      "      },\n",
      "      \"site_index_builder\": {\n",
      "        \"class_name\": \"DefaultSiteIndexBuilder\"\n",
      "      }\n",
      "    }\n",
      "  },\n",
      "  \"datasources\": {},\n",
      "  \"evaluation_parameter_store_name\": \"evaluation_parameter_store\",\n",
      "  \"expectations_store_name\": \"expectations_store\",\n",
      "  \"stores\": {\n",
      "    \"expectations_store\": {\n",
      "      \"class_name\": \"ExpectationsStore\",\n",
      "      \"store_backend\": {\n",
      "        \"class_name\": \"TupleFilesystemStoreBackend\",\n",
      "        \"base_directory\": \"C:\\\\Users\\\\guyi\\\\Documents\\\\projects\\\\great_expectations\\\\src\\\\great_expectations\\\\expectations\"\n",
      "      }\n",
      "    },\n",
      "    \"validations_store\": {\n",
      "      \"class_name\": \"ValidationsStore\",\n",
      "      \"store_backend\": {\n",
      "        \"class_name\": \"TupleFilesystemStoreBackend\",\n",
      "        \"base_directory\": \"C:\\\\Users\\\\guyi\\\\Documents\\\\projects\\\\great_expectations\\\\src\\\\great_expectations\\\\validations\"\n",
      "      }\n",
      "    },\n",
      "    \"evaluation_parameter_store\": {\n",
      "      \"class_name\": \"EvaluationParameterStore\"\n",
      "    },\n",
      "    \"checkpoint_store\": {\n",
      "      \"class_name\": \"CheckpointStore\",\n",
      "      \"store_backend\": {\n",
      "        \"class_name\": \"TupleFilesystemStoreBackend\",\n",
      "        \"base_directory\": \"C:\\\\Users\\\\guyi\\\\Documents\\\\projects\\\\great_expectations\\\\src\\\\great_expectations\\\\checkpoints\"\n",
      "      }\n",
      "    }\n",
      "  },\n",
      "  \"validations_store_name\": \"validations_store\"\n",
      "}\n"
     ]
    }
   ],
   "source": [
    "## Data and great expectations folders should be created in order to run this script\n",
    "\n",
    "data_dir = os.path.join(root_path, \"data\") \n",
    "print(data_dir)\n",
    "\n",
    "expectations_store_dir = os.path.join(root_path, \"great_expectations\", \"expectations\")\n",
    "print(expectations_store_dir)\n",
    "\n",
    "validations_store_dir = os.path.join(root_path, \"great_expectations\", \"validations\")\n",
    "print(validations_store_dir)\n",
    "\n",
    "checkpoint_store_dir = os.path.join(root_path, \"great_expectations\", \"checkpoints\")\n",
    "print(checkpoint_store_dir)\n",
    "\n",
    "local_site_datadoc_dir = os.path.join(root_path, \"great_expectations\", \"uncommitted/data_docs/local_site/\")\n",
    "print(local_site_datadoc_dir)\n",
    "\n",
    "## project configuration let great expectations know the folder structure and locations\n",
    "\n",
    "project_config = get_project_config_local(expectations_store_dir, validations_store_dir, checkpoint_store_dir, local_site_datadoc_dir)\n",
    "print(project_config)"
   ]
  },
  {
   "cell_type": "code",
   "execution_count": 6,
   "id": "a13027c4",
   "metadata": {},
   "outputs": [],
   "source": [
    "from source_config_local_data import get_runtime_datasource_config\n",
    "\n",
    "datasource_name = \"fs_datasource\"\n",
    "execution_engine = \"PandasExecutionEngine\"\n",
    "\n",
    "datasource_config = get_runtime_datasource_config(datasource_name, execution_engine)"
   ]
  },
  {
   "cell_type": "code",
   "execution_count": 7,
   "id": "445f5d99",
   "metadata": {},
   "outputs": [
    {
     "name": "stdout",
     "output_type": "stream",
     "text": [
      "Attempting to instantiate class from config...\n",
      "\tInstantiating as a Datasource, since class_name is Datasource\n",
      "\tSuccessfully instantiated Datasource\n",
      "\n",
      "\n",
      "ExecutionEngine class name: PandasExecutionEngine\n",
      "Data Connectors:\n",
      "\tdefault_runtime_data_connector_name:RuntimeDataConnector\n",
      "\n",
      "\tAvailable data_asset_names (0 of 0):\n",
      "\t\tNote : RuntimeDataConnector will not have data_asset_names until they are passed in through RuntimeBatchRequest\n",
      "\n",
      "\tUnmatched data_references (0 of 0): []\n",
      "\n"
     ]
    },
    {
     "name": "stderr",
     "output_type": "stream",
     "text": [
      "C:\\Users\\guyi\\Miniconda3\\envs\\build-test-env\\lib\\site-packages\\great_expectations\\datasource\\data_connector\\runtime_data_connector.py:133: DeprecationWarning: Specifying batch_identifiers as part of the RuntimeDataConnector config is deprecated as of v0.15.1 and will be removed by v0.18. Please configure batch_identifiers as part of Assets instead.\n",
      "  warnings.warn(\n"
     ]
    },
    {
     "data": {
      "text/plain": [
       "<great_expectations.datasource.new_datasource.Datasource at 0x1d6451c52e0>"
      ]
     },
     "execution_count": 7,
     "metadata": {},
     "output_type": "execute_result"
    }
   ],
   "source": [
    "from ruamel import yaml\n",
    "from great_expectations.data_context import BaseDataContext\n",
    "\n",
    "curr_context = BaseDataContext(project_config=project_config)\n",
    "curr_context.test_yaml_config(yaml.dump(datasource_config))"
   ]
  },
  {
   "cell_type": "code",
   "execution_count": 8,
   "id": "8c8832a5",
   "metadata": {},
   "outputs": [
    {
     "data": {
      "text/plain": [
       "<great_expectations.datasource.new_datasource.Datasource at 0x1d6451c52b0>"
      ]
     },
     "execution_count": 8,
     "metadata": {},
     "output_type": "execute_result"
    }
   ],
   "source": [
    "curr_context.add_datasource(**datasource_config)"
   ]
  },
  {
   "cell_type": "code",
   "execution_count": 9,
   "id": "c8726452",
   "metadata": {},
   "outputs": [
    {
     "data": {
      "text/html": [
       "<div>\n",
       "<style scoped>\n",
       "    .dataframe tbody tr th:only-of-type {\n",
       "        vertical-align: middle;\n",
       "    }\n",
       "\n",
       "    .dataframe tbody tr th {\n",
       "        vertical-align: top;\n",
       "    }\n",
       "\n",
       "    .dataframe thead th {\n",
       "        text-align: right;\n",
       "    }\n",
       "</style>\n",
       "<table border=\"1\" class=\"dataframe\">\n",
       "  <thead>\n",
       "    <tr style=\"text-align: right;\">\n",
       "      <th></th>\n",
       "      <th>Unnamed: 0</th>\n",
       "      <th>Name</th>\n",
       "      <th>Age</th>\n",
       "      <th>Work Exp</th>\n",
       "      <th>Sex</th>\n",
       "      <th>New Employee</th>\n",
       "      <th>Vocation Days</th>\n",
       "    </tr>\n",
       "  </thead>\n",
       "  <tbody>\n",
       "    <tr>\n",
       "      <th>0</th>\n",
       "      <td>0</td>\n",
       "      <td>Tom</td>\n",
       "      <td>20</td>\n",
       "      <td>0</td>\n",
       "      <td>Male</td>\n",
       "      <td>True</td>\n",
       "      <td>5</td>\n",
       "    </tr>\n",
       "    <tr>\n",
       "      <th>1</th>\n",
       "      <td>1</td>\n",
       "      <td>Nick</td>\n",
       "      <td>30</td>\n",
       "      <td>4</td>\n",
       "      <td>Male</td>\n",
       "      <td>False</td>\n",
       "      <td>20</td>\n",
       "    </tr>\n",
       "    <tr>\n",
       "      <th>2</th>\n",
       "      <td>2</td>\n",
       "      <td>Juli</td>\n",
       "      <td>24</td>\n",
       "      <td>2</td>\n",
       "      <td>Female</td>\n",
       "      <td>False</td>\n",
       "      <td>16</td>\n",
       "    </tr>\n",
       "  </tbody>\n",
       "</table>\n",
       "</div>"
      ],
      "text/plain": [
       "   Unnamed: 0  Name  Age  Work Exp     Sex  New Employee  Vocation Days\n",
       "0           0   Tom   20         0    Male          True              5\n",
       "1           1  Nick   30         4    Male         False             20\n",
       "2           2  Juli   24         2  Female         False             16"
      ]
     },
     "execution_count": 9,
     "metadata": {},
     "output_type": "execute_result"
    }
   ],
   "source": [
    "import datetime\n",
    "from great_expectations.core.batch import RuntimeBatchRequest\n",
    "\n",
    "current_path = os.getcwd()\n",
    "data_path = os.path.join(current_path, \"../../../data\")\n",
    "csv_path = os.path.join(data_path, \"data.csv\")\n",
    "df = pd.read_csv(os.path.join(data_dir, csv_path))\n",
    "df.head()"
   ]
  },
  {
   "cell_type": "code",
   "execution_count": 10,
   "id": "1ca75569",
   "metadata": {},
   "outputs": [],
   "source": [
    "batch_request = RuntimeBatchRequest(\n",
    "    datasource_name=\"fs_datasource\",\n",
    "    data_connector_name=\"default_runtime_data_connector_name\",\n",
    "    data_asset_name=\"data_asset_name\",\n",
    "    runtime_parameters={\"batch_data\": df},  # df is your dataframe\n",
    "    batch_identifiers={\"default_identifier_name\": \"default_identifier\"},\n",
    ")"
   ]
  },
  {
   "cell_type": "code",
   "execution_count": 11,
   "id": "d32af79f",
   "metadata": {},
   "outputs": [],
   "source": [
    "from expectations import get_data_expectations_column\n",
    "\n",
    "expectation_suite_name = \"check_data\"\n",
    "expectation_suite = get_data_expectations_column(curr_context, expectation_suite_name)"
   ]
  },
  {
   "cell_type": "code",
   "execution_count": 12,
   "id": "6eaa523c",
   "metadata": {},
   "outputs": [],
   "source": [
    "from checkpoint_config import get_checkpoint_config\n",
    "\n",
    "check_point_name = \"checkpoint\"\n",
    "\n",
    "checkpoint_config = get_checkpoint_config(check_point_name, expectation_suite_name)"
   ]
  },
  {
   "cell_type": "code",
   "execution_count": 13,
   "id": "5ce93068",
   "metadata": {},
   "outputs": [
    {
     "name": "stdout",
     "output_type": "stream",
     "text": [
      "check point checkpoint created ...\n",
      "Attempting to instantiate class from config...\n",
      "\tInstantiating as a SimpleCheckpoint, since class_name is SimpleCheckpoint\n",
      "\tSuccessfully instantiated SimpleCheckpoint\n",
      "\n",
      "\n",
      "Checkpoint class name: SimpleCheckpoint\n",
      "Your current Checkpoint configuration has an empty or missing \"validations\" attribute.  This\n",
      "means you must either update your Checkpoint configuration or provide an appropriate validations\n",
      "list programmatically (i.e., when your Checkpoint is run).\n",
      "                    \n"
     ]
    },
    {
     "data": {
      "text/plain": [
       "{\n",
       "  \"action_list\": [\n",
       "    {\n",
       "      \"name\": \"store_validation_result\",\n",
       "      \"action\": {\n",
       "        \"class_name\": \"StoreValidationResultAction\"\n",
       "      }\n",
       "    },\n",
       "    {\n",
       "      \"name\": \"store_evaluation_params\",\n",
       "      \"action\": {\n",
       "        \"class_name\": \"StoreEvaluationParametersAction\"\n",
       "      }\n",
       "    },\n",
       "    {\n",
       "      \"name\": \"update_data_docs\",\n",
       "      \"action\": {\n",
       "        \"class_name\": \"UpdateDataDocsAction\",\n",
       "        \"site_names\": []\n",
       "      }\n",
       "    }\n",
       "  ],\n",
       "  \"batch_request\": {},\n",
       "  \"class_name\": \"Checkpoint\",\n",
       "  \"config_version\": 1.0,\n",
       "  \"evaluation_parameters\": {},\n",
       "  \"expectation_suite_name\": \"check_data\",\n",
       "  \"module_name\": \"great_expectations.checkpoint\",\n",
       "  \"name\": \"checkpoint\",\n",
       "  \"profilers\": [],\n",
       "  \"runtime_configuration\": {},\n",
       "  \"validations\": []\n",
       "}"
      ]
     },
     "execution_count": 13,
     "metadata": {},
     "output_type": "execute_result"
    }
   ],
   "source": [
    "curr_context.add_checkpoint(**checkpoint_config)\n",
    "print(\"check point \" + check_point_name +\" created ...\")\n",
    "\n",
    "curr_context.test_yaml_config(yaml.dump(checkpoint_config))"
   ]
  },
  {
   "cell_type": "code",
   "execution_count": 14,
   "id": "a5ca3214",
   "metadata": {},
   "outputs": [
    {
     "data": {
      "application/vnd.jupyter.widget-view+json": {
       "model_id": "ea2be49cc6e5426886c4982620d43762",
       "version_major": 2,
       "version_minor": 0
      },
      "text/plain": [
       "Calculating Metrics:   0%|          | 0/27 [00:00<?, ?it/s]"
      ]
     },
     "metadata": {},
     "output_type": "display_data"
    },
    {
     "name": "stderr",
     "output_type": "stream",
     "text": [
      "C:\\Users\\guyi\\Miniconda3\\envs\\build-test-env\\lib\\site-packages\\jinja2\\environment.py:1088: DeprecationWarning: 'soft_unicode' has been renamed to 'soft_str'. The old name will be removed in MarkupSafe 2.1.\n",
      "  return concat(self.root_render_func(self.new_context(vars)))\n"
     ]
    },
    {
     "name": "stdout",
     "output_type": "stream",
     "text": [
      "{'run_id': {'run_time': '2022-09-16T11:20:44.661107+00:00', 'run_name': None}, 'run_results': {'ValidationResultIdentifier::check_data/__none__/20220916T112044.661107Z/b8289541e16947af3bdf523c66affb37': {'validation_result': {'results': [{'expectation_config': {'kwargs': {'column': 'Name', 'batch_id': 'b8289541e16947af3bdf523c66affb37'}, 'expectation_type': 'expect_column_to_exist', 'meta': {}}, 'success': True, 'result': {}, 'exception_info': {'raised_exception': False, 'exception_traceback': None, 'exception_message': None}, 'meta': {}}, {'expectation_config': {'kwargs': {'column': 'Name', 'batch_id': 'b8289541e16947af3bdf523c66affb37'}, 'expectation_type': 'expect_column_values_to_not_be_null', 'meta': {}}, 'success': True, 'result': {'element_count': 3, 'unexpected_count': 0, 'unexpected_percent': 0.0, 'partial_unexpected_list': [], 'partial_unexpected_index_list': None, 'partial_unexpected_counts': []}, 'exception_info': {'raised_exception': False, 'exception_traceback': None, 'exception_message': None}, 'meta': {}}, {'expectation_config': {'kwargs': {'column': 'Name', 'type_': 'str', 'batch_id': 'b8289541e16947af3bdf523c66affb37'}, 'expectation_type': 'expect_column_values_to_be_of_type', 'meta': {}}, 'success': True, 'result': {'element_count': 3, 'unexpected_count': 0, 'unexpected_percent': 0.0, 'partial_unexpected_list': [], 'missing_count': 0, 'missing_percent': 0.0, 'unexpected_percent_total': 0.0, 'unexpected_percent_nonmissing': 0.0, 'partial_unexpected_index_list': None, 'partial_unexpected_counts': []}, 'exception_info': {'raised_exception': False, 'exception_traceback': None, 'exception_message': None}, 'meta': {}}, {'expectation_config': {'kwargs': {'column': 'Age', 'batch_id': 'b8289541e16947af3bdf523c66affb37'}, 'expectation_type': 'expect_column_to_exist', 'meta': {}}, 'success': True, 'result': {}, 'exception_info': {'raised_exception': False, 'exception_traceback': None, 'exception_message': None}, 'meta': {}}, {'expectation_config': {'kwargs': {'column': 'Age', 'batch_id': 'b8289541e16947af3bdf523c66affb37'}, 'expectation_type': 'expect_column_values_to_not_be_null', 'meta': {}}, 'success': True, 'result': {'element_count': 3, 'unexpected_count': 0, 'unexpected_percent': 0.0, 'partial_unexpected_list': [], 'partial_unexpected_index_list': None, 'partial_unexpected_counts': []}, 'exception_info': {'raised_exception': False, 'exception_traceback': None, 'exception_message': None}, 'meta': {}}, {'expectation_config': {'kwargs': {'column': 'Age', 'type_': 'int64', 'batch_id': 'b8289541e16947af3bdf523c66affb37'}, 'expectation_type': 'expect_column_values_to_be_of_type', 'meta': {}}, 'success': True, 'result': {'observed_value': 'int64'}, 'exception_info': {'raised_exception': False, 'exception_traceback': None, 'exception_message': None}, 'meta': {}}, {'expectation_config': {'kwargs': {'column': 'Work Exp', 'batch_id': 'b8289541e16947af3bdf523c66affb37'}, 'expectation_type': 'expect_column_to_exist', 'meta': {}}, 'success': True, 'result': {}, 'exception_info': {'raised_exception': False, 'exception_traceback': None, 'exception_message': None}, 'meta': {}}, {'expectation_config': {'kwargs': {'column': 'Work Exp', 'batch_id': 'b8289541e16947af3bdf523c66affb37'}, 'expectation_type': 'expect_column_values_to_not_be_null', 'meta': {}}, 'success': True, 'result': {'element_count': 3, 'unexpected_count': 0, 'unexpected_percent': 0.0, 'partial_unexpected_list': [], 'partial_unexpected_index_list': None, 'partial_unexpected_counts': []}, 'exception_info': {'raised_exception': False, 'exception_traceback': None, 'exception_message': None}, 'meta': {}}, {'expectation_config': {'kwargs': {'column': 'Work Exp', 'type_': 'int64', 'batch_id': 'b8289541e16947af3bdf523c66affb37'}, 'expectation_type': 'expect_column_values_to_be_of_type', 'meta': {}}, 'success': True, 'result': {'observed_value': 'int64'}, 'exception_info': {'raised_exception': False, 'exception_traceback': None, 'exception_message': None}, 'meta': {}}, {'expectation_config': {'kwargs': {'column': 'Sex', 'batch_id': 'b8289541e16947af3bdf523c66affb37'}, 'expectation_type': 'expect_column_to_exist', 'meta': {}}, 'success': True, 'result': {}, 'exception_info': {'raised_exception': False, 'exception_traceback': None, 'exception_message': None}, 'meta': {}}, {'expectation_config': {'kwargs': {'column': 'Sex', 'batch_id': 'b8289541e16947af3bdf523c66affb37'}, 'expectation_type': 'expect_column_values_to_not_be_null', 'meta': {}}, 'success': True, 'result': {'element_count': 3, 'unexpected_count': 0, 'unexpected_percent': 0.0, 'partial_unexpected_list': [], 'partial_unexpected_index_list': None, 'partial_unexpected_counts': []}, 'exception_info': {'raised_exception': False, 'exception_traceback': None, 'exception_message': None}, 'meta': {}}, {'expectation_config': {'kwargs': {'column': 'Sex', 'type_': 'str', 'batch_id': 'b8289541e16947af3bdf523c66affb37'}, 'expectation_type': 'expect_column_values_to_be_of_type', 'meta': {}}, 'success': True, 'result': {'element_count': 3, 'unexpected_count': 0, 'unexpected_percent': 0.0, 'partial_unexpected_list': [], 'missing_count': 0, 'missing_percent': 0.0, 'unexpected_percent_total': 0.0, 'unexpected_percent_nonmissing': 0.0, 'partial_unexpected_index_list': None, 'partial_unexpected_counts': []}, 'exception_info': {'raised_exception': False, 'exception_traceback': None, 'exception_message': None}, 'meta': {}}, {'expectation_config': {'kwargs': {'column': 'New Employee', 'batch_id': 'b8289541e16947af3bdf523c66affb37'}, 'expectation_type': 'expect_column_to_exist', 'meta': {}}, 'success': True, 'result': {}, 'exception_info': {'raised_exception': False, 'exception_traceback': None, 'exception_message': None}, 'meta': {}}, {'expectation_config': {'kwargs': {'column': 'New Employee', 'batch_id': 'b8289541e16947af3bdf523c66affb37'}, 'expectation_type': 'expect_column_values_to_not_be_null', 'meta': {}}, 'success': True, 'result': {'element_count': 3, 'unexpected_count': 0, 'unexpected_percent': 0.0, 'partial_unexpected_list': [], 'partial_unexpected_index_list': None, 'partial_unexpected_counts': []}, 'exception_info': {'raised_exception': False, 'exception_traceback': None, 'exception_message': None}, 'meta': {}}, {'expectation_config': {'kwargs': {'column': 'New Employee', 'type_': 'bool_', 'batch_id': 'b8289541e16947af3bdf523c66affb37'}, 'expectation_type': 'expect_column_values_to_be_of_type', 'meta': {}}, 'success': True, 'result': {'observed_value': 'bool_'}, 'exception_info': {'raised_exception': False, 'exception_traceback': None, 'exception_message': None}, 'meta': {}}, {'expectation_config': {'kwargs': {'column': 'Vocation Days', 'batch_id': 'b8289541e16947af3bdf523c66affb37'}, 'expectation_type': 'expect_column_to_exist', 'meta': {}}, 'success': True, 'result': {}, 'exception_info': {'raised_exception': False, 'exception_traceback': None, 'exception_message': None}, 'meta': {}}, {'expectation_config': {'kwargs': {'column': 'Vocation Days', 'batch_id': 'b8289541e16947af3bdf523c66affb37'}, 'expectation_type': 'expect_column_values_to_not_be_null', 'meta': {}}, 'success': True, 'result': {'element_count': 3, 'unexpected_count': 0, 'unexpected_percent': 0.0, 'partial_unexpected_list': [], 'partial_unexpected_index_list': None, 'partial_unexpected_counts': []}, 'exception_info': {'raised_exception': False, 'exception_traceback': None, 'exception_message': None}, 'meta': {}}, {'expectation_config': {'kwargs': {'column': 'Vocation Days', 'type_': 'int64', 'batch_id': 'b8289541e16947af3bdf523c66affb37'}, 'expectation_type': 'expect_column_values_to_be_of_type', 'meta': {}}, 'success': True, 'result': {'observed_value': 'int64'}, 'exception_info': {'raised_exception': False, 'exception_traceback': None, 'exception_message': None}, 'meta': {}}], 'success': True, 'evaluation_parameters': {}, 'statistics': {'evaluated_expectations': 18, 'successful_expectations': 18, 'unsuccessful_expectations': 0, 'success_percent': 100.0}, 'meta': {'great_expectations_version': '0.15.15', 'expectation_suite_name': 'check_data', 'run_id': {'run_time': '2022-09-16T11:20:44.661107+00:00', 'run_name': None}, 'batch_spec': {'data_asset_name': 'data_asset_name', 'batch_data': 'PandasDataFrame'}, 'batch_markers': {'ge_load_time': '20220916T182044.671609Z', 'pandas_data_fingerprint': 'bce53e101071f75793cc04bd06a22334'}, 'active_batch_definition': {'datasource_name': 'fs_datasource', 'data_connector_name': 'default_runtime_data_connector_name', 'data_asset_name': 'data_asset_name', 'batch_identifiers': {'default_identifier_name': 'default_identifier'}}, 'validation_time': '20220916T182044.703685Z', 'checkpoint_name': 'checkpoint'}}, 'actions_results': {'store_validation_result': {'class': 'StoreValidationResultAction'}, 'store_evaluation_params': {'class': 'StoreEvaluationParametersAction'}, 'update_data_docs': {'local_site': 'file://C:\\\\Users\\\\guyi\\\\Documents\\\\projects\\\\great_expectations\\\\src\\\\great_expectations\\\\uncommitted/data_docs/local_site/validations\\\\check_data\\\\__none__\\\\20220916T112044.661107Z\\\\b8289541e16947af3bdf523c66affb37.html', 'class': 'UpdateDataDocsAction'}}}}, 'checkpoint_config': {'expectation_suite_ge_cloud_id': None, 'config_version': 1.0, 'class_name': 'Checkpoint', 'notify_with': None, 'module_name': 'great_expectations.checkpoint', 'runtime_configuration': {}, 'name': 'checkpoint', 'template_name': None, 'evaluation_parameters': {}, 'expectation_suite_name': 'check_data', 'site_names': None, 'slack_webhook': None, 'action_list': [{'name': 'store_validation_result', 'action': {'class_name': 'StoreValidationResultAction'}}, {'name': 'store_evaluation_params', 'action': {'class_name': 'StoreEvaluationParametersAction'}}, {'name': 'update_data_docs', 'action': {'class_name': 'UpdateDataDocsAction', 'site_names': []}}], 'profilers': [], 'validations': [], 'batch_request': {}, 'notify_on': None, 'run_name_template': None, 'ge_cloud_id': None}, 'success': True}\n"
     ]
    }
   ],
   "source": [
    "results = curr_context.run_checkpoint(\n",
    "    checkpoint_name=check_point_name,\n",
    "    validations=[\n",
    "        {\"batch_request\": batch_request},\n",
    "    ],\n",
    ")\n",
    "\n",
    "res = results.to_json_dict()\n",
    "print(res)"
   ]
  }
 ],
 "metadata": {
  "kernelspec": {
   "display_name": "Python 3 (ipykernel)",
   "language": "python",
   "name": "python3"
  },
  "language_info": {
   "codemirror_mode": {
    "name": "ipython",
    "version": 3
   },
   "file_extension": ".py",
   "mimetype": "text/x-python",
   "name": "python",
   "nbconvert_exporter": "python",
   "pygments_lexer": "ipython3",
   "version": "3.8.13"
  }
 },
 "nbformat": 4,
 "nbformat_minor": 5
}
