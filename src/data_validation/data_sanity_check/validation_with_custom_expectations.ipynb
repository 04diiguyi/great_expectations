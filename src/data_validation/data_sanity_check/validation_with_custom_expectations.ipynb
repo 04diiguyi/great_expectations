{
 "cells": [
  {
   "cell_type": "code",
   "execution_count": 1,
   "id": "1bb4b46b",
   "metadata": {},
   "outputs": [
    {
     "name": "stdout",
     "output_type": "stream",
     "text": [
      "C:\\Users\\guyi\\Documents\\projects\\great_expectations\\src\n"
     ]
    }
   ],
   "source": [
    "import os\n",
    "import sys\n",
    "import pandas as pd\n",
    "\n",
    "current_path = os.getcwd()\n",
    "root_path = os.path.abspath(os.path.join('../..'))\n",
    "\n",
    "print(root_path)"
   ]
  },
  {
   "cell_type": "code",
   "execution_count": 2,
   "id": "7c8937b0",
   "metadata": {},
   "outputs": [
    {
     "name": "stdout",
     "output_type": "stream",
     "text": [
      "C:\\Users\\guyi\\Documents\\projects\\great_expectations\\src\\data_validation\\util\n"
     ]
    }
   ],
   "source": [
    "util_path = os.path.abspath(os.path.join('../util/'))\n",
    "\n",
    "print(util_path)"
   ]
  },
  {
   "cell_type": "code",
   "execution_count": 3,
   "id": "360e623b",
   "metadata": {},
   "outputs": [],
   "source": [
    "if util_path not in sys.path:\n",
    "    sys.path.append(util_path)"
   ]
  },
  {
   "cell_type": "code",
   "execution_count": 4,
   "id": "23bb845c",
   "metadata": {},
   "outputs": [
    {
     "name": "stdout",
     "output_type": "stream",
     "text": [
      "C:\\Users\\guyi\\Documents\\projects\\great_expectations\\src\\data\n",
      "C:\\Users\\guyi\\Documents\\projects\\great_expectations\\src\\great_expectations\\expectations\n",
      "C:\\Users\\guyi\\Documents\\projects\\great_expectations\\src\\great_expectations\\validations\n",
      "C:\\Users\\guyi\\Documents\\projects\\great_expectations\\src\\great_expectations\\checkpoints\n",
      "C:\\Users\\guyi\\Documents\\projects\\great_expectations\\src\\great_expectations\\uncommitted/data_docs/local_site/\n",
      "{\n",
      "  \"anonymous_usage_statistics\": {\n",
      "    \"usage_statistics_url\": \"https://stats.greatexpectations.io/great_expectations/v1/usage_statistics\",\n",
      "    \"enabled\": true,\n",
      "    \"data_context_id\": \"2dd5f7b7-0d9c-45c0-a4e5-83efdaa40051\",\n",
      "    \"explicit_id\": false,\n",
      "    \"explicit_url\": false\n",
      "  },\n",
      "  \"checkpoint_store_name\": \"checkpoint_store\",\n",
      "  \"config_version\": 3,\n",
      "  \"data_docs_sites\": {\n",
      "    \"local_site\": {\n",
      "      \"class_name\": \"SiteBuilder\",\n",
      "      \"show_how_to_buttons\": \"true\",\n",
      "      \"store_backend\": {\n",
      "        \"class_name\": \"TupleFilesystemStoreBackend\",\n",
      "        \"base_directory\": \"C:\\\\Users\\\\guyi\\\\Documents\\\\projects\\\\great_expectations\\\\src\\\\great_expectations\\\\uncommitted/data_docs/local_site/\"\n",
      "      },\n",
      "      \"site_index_builder\": {\n",
      "        \"class_name\": \"DefaultSiteIndexBuilder\"\n",
      "      }\n",
      "    }\n",
      "  },\n",
      "  \"datasources\": {},\n",
      "  \"evaluation_parameter_store_name\": \"evaluation_parameter_store\",\n",
      "  \"expectations_store_name\": \"expectations_store\",\n",
      "  \"stores\": {\n",
      "    \"expectations_store\": {\n",
      "      \"class_name\": \"ExpectationsStore\",\n",
      "      \"store_backend\": {\n",
      "        \"class_name\": \"TupleFilesystemStoreBackend\",\n",
      "        \"base_directory\": \"C:\\\\Users\\\\guyi\\\\Documents\\\\projects\\\\great_expectations\\\\src\\\\great_expectations\\\\expectations\"\n",
      "      }\n",
      "    },\n",
      "    \"validations_store\": {\n",
      "      \"class_name\": \"ValidationsStore\",\n",
      "      \"store_backend\": {\n",
      "        \"class_name\": \"TupleFilesystemStoreBackend\",\n",
      "        \"base_directory\": \"C:\\\\Users\\\\guyi\\\\Documents\\\\projects\\\\great_expectations\\\\src\\\\great_expectations\\\\validations\"\n",
      "      }\n",
      "    },\n",
      "    \"evaluation_parameter_store\": {\n",
      "      \"class_name\": \"EvaluationParameterStore\"\n",
      "    },\n",
      "    \"checkpoint_store\": {\n",
      "      \"class_name\": \"CheckpointStore\",\n",
      "      \"store_backend\": {\n",
      "        \"class_name\": \"TupleFilesystemStoreBackend\",\n",
      "        \"base_directory\": \"C:\\\\Users\\\\guyi\\\\Documents\\\\projects\\\\great_expectations\\\\src\\\\great_expectations\\\\checkpoints\"\n",
      "      }\n",
      "    }\n",
      "  },\n",
      "  \"validations_store_name\": \"validations_store\"\n",
      "}\n"
     ]
    }
   ],
   "source": [
    "from project_config import get_project_config_local\n",
    "\n",
    "data_dir = os.path.join(root_path, \"data\") \n",
    "print(data_dir)\n",
    "\n",
    "expectations_store_dir = os.path.join(root_path, \"great_expectations\", \"expectations\")\n",
    "print(expectations_store_dir)\n",
    "\n",
    "validations_store_dir = os.path.join(root_path, \"great_expectations\", \"validations\")\n",
    "print(validations_store_dir)\n",
    "\n",
    "checkpoint_store_dir = os.path.join(root_path, \"great_expectations\", \"checkpoints\")\n",
    "print(checkpoint_store_dir)\n",
    "\n",
    "local_site_datadoc_dir = os.path.join(root_path, \"great_expectations\", \"uncommitted/data_docs/local_site/\")\n",
    "print(local_site_datadoc_dir)\n",
    "\n",
    "## project configuration let great expectations know the folder structure and locations\n",
    "\n",
    "project_config = get_project_config_local(expectations_store_dir, validations_store_dir, checkpoint_store_dir, local_site_datadoc_dir)\n",
    "print(project_config)"
   ]
  },
  {
   "cell_type": "code",
   "execution_count": 5,
   "id": "b641ec0a",
   "metadata": {},
   "outputs": [],
   "source": [
    "from source_config_local_data import get_runtime_datasource_config\n",
    "\n",
    "datasource_name = \"fs_datasource\"\n",
    "execution_engine = \"PandasExecutionEngine\"\n",
    "\n",
    "datasource_config = get_runtime_datasource_config(datasource_name, execution_engine)"
   ]
  },
  {
   "cell_type": "code",
   "execution_count": 6,
   "id": "1929fbd0",
   "metadata": {},
   "outputs": [
    {
     "name": "stdout",
     "output_type": "stream",
     "text": [
      "Attempting to instantiate class from config...\n",
      "\tInstantiating as a Datasource, since class_name is Datasource\n",
      "\tSuccessfully instantiated Datasource\n",
      "\n",
      "\n",
      "ExecutionEngine class name: PandasExecutionEngine\n",
      "Data Connectors:\n",
      "\tdefault_runtime_data_connector_name:RuntimeDataConnector\n",
      "\n",
      "\tAvailable data_asset_names (0 of 0):\n",
      "\t\tNote : RuntimeDataConnector will not have data_asset_names until they are passed in through RuntimeBatchRequest\n",
      "\n",
      "\tUnmatched data_references (0 of 0): []\n",
      "\n"
     ]
    },
    {
     "name": "stderr",
     "output_type": "stream",
     "text": [
      "C:\\Users\\guyi\\Miniconda3\\envs\\build-test-env\\lib\\site-packages\\great_expectations\\datasource\\data_connector\\runtime_data_connector.py:133: DeprecationWarning: Specifying batch_identifiers as part of the RuntimeDataConnector config is deprecated as of v0.15.1 and will be removed by v0.18. Please configure batch_identifiers as part of Assets instead.\n",
      "  warnings.warn(\n"
     ]
    },
    {
     "data": {
      "text/plain": [
       "<great_expectations.datasource.new_datasource.Datasource at 0x1f461864460>"
      ]
     },
     "execution_count": 6,
     "metadata": {},
     "output_type": "execute_result"
    }
   ],
   "source": [
    "from ruamel import yaml\n",
    "from great_expectations.data_context import BaseDataContext\n",
    "\n",
    "curr_context = BaseDataContext(project_config=project_config)\n",
    "curr_context.test_yaml_config(yaml.dump(datasource_config))"
   ]
  },
  {
   "cell_type": "code",
   "execution_count": 7,
   "id": "e39ca673",
   "metadata": {},
   "outputs": [
    {
     "data": {
      "text/html": [
       "<div>\n",
       "<style scoped>\n",
       "    .dataframe tbody tr th:only-of-type {\n",
       "        vertical-align: middle;\n",
       "    }\n",
       "\n",
       "    .dataframe tbody tr th {\n",
       "        vertical-align: top;\n",
       "    }\n",
       "\n",
       "    .dataframe thead th {\n",
       "        text-align: right;\n",
       "    }\n",
       "</style>\n",
       "<table border=\"1\" class=\"dataframe\">\n",
       "  <thead>\n",
       "    <tr style=\"text-align: right;\">\n",
       "      <th></th>\n",
       "      <th>Unnamed: 0</th>\n",
       "      <th>Name</th>\n",
       "      <th>Age</th>\n",
       "      <th>Work Exp</th>\n",
       "      <th>Sex</th>\n",
       "      <th>New Employee</th>\n",
       "      <th>Vocation Days</th>\n",
       "    </tr>\n",
       "  </thead>\n",
       "  <tbody>\n",
       "    <tr>\n",
       "      <th>0</th>\n",
       "      <td>0</td>\n",
       "      <td>Tom</td>\n",
       "      <td>20</td>\n",
       "      <td>0</td>\n",
       "      <td>Male</td>\n",
       "      <td>True</td>\n",
       "      <td>5</td>\n",
       "    </tr>\n",
       "    <tr>\n",
       "      <th>1</th>\n",
       "      <td>1</td>\n",
       "      <td>Nick</td>\n",
       "      <td>30</td>\n",
       "      <td>4</td>\n",
       "      <td>Male</td>\n",
       "      <td>False</td>\n",
       "      <td>20</td>\n",
       "    </tr>\n",
       "    <tr>\n",
       "      <th>2</th>\n",
       "      <td>2</td>\n",
       "      <td>Juli</td>\n",
       "      <td>24</td>\n",
       "      <td>2</td>\n",
       "      <td>Female</td>\n",
       "      <td>False</td>\n",
       "      <td>16</td>\n",
       "    </tr>\n",
       "  </tbody>\n",
       "</table>\n",
       "</div>"
      ],
      "text/plain": [
       "   Unnamed: 0  Name  Age  Work Exp     Sex  New Employee  Vocation Days\n",
       "0           0   Tom   20         0    Male          True              5\n",
       "1           1  Nick   30         4    Male         False             20\n",
       "2           2  Juli   24         2  Female         False             16"
      ]
     },
     "execution_count": 7,
     "metadata": {},
     "output_type": "execute_result"
    }
   ],
   "source": [
    "import datetime\n",
    "\n",
    "current_path = os.getcwd()\n",
    "data_path = os.path.join(current_path, \"../../../data\")\n",
    "csv_path = os.path.join(data_path, \"data.csv\")\n",
    "df = pd.read_csv(os.path.join(data_dir, csv_path))\n",
    "df.head()"
   ]
  },
  {
   "cell_type": "code",
   "execution_count": 8,
   "id": "792e9f53",
   "metadata": {},
   "outputs": [
    {
     "name": "stdout",
     "output_type": "stream",
     "text": [
      "{'success': True, 'result': 'no vocation days issues.'}\n"
     ]
    }
   ],
   "source": [
    "import great_expectations as ge\n",
    "from custom_data_set import CustomPandasDataSet\n",
    "\n",
    "my_df = ge.read_csv(csv_path, dataset_class=CustomPandasDataSet)\n",
    "\n",
    "print(my_df.expect_holiday_days_match_exp())"
   ]
  },
  {
   "cell_type": "code",
   "execution_count": null,
   "id": "286dc5e3",
   "metadata": {},
   "outputs": [],
   "source": []
  }
 ],
 "metadata": {
  "kernelspec": {
   "display_name": "Python 3 (ipykernel)",
   "language": "python",
   "name": "python3"
  },
  "language_info": {
   "codemirror_mode": {
    "name": "ipython",
    "version": 3
   },
   "file_extension": ".py",
   "mimetype": "text/x-python",
   "name": "python",
   "nbconvert_exporter": "python",
   "pygments_lexer": "ipython3",
   "version": "3.8.13"
  }
 },
 "nbformat": 4,
 "nbformat_minor": 5
}
