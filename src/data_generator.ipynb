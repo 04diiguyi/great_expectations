{
 "cells": [
  {
   "cell_type": "code",
   "execution_count": 9,
   "id": "cd458b02",
   "metadata": {},
   "outputs": [
    {
     "name": "stdout",
     "output_type": "stream",
     "text": [
      "C:\\Users\\guyi\\Documents\\projects\\great_expectations\n",
      "C:\\Users\\guyi\\Documents\\projects\\great_expectations\\data\n"
     ]
    }
   ],
   "source": [
    "import os\n",
    "import sys\n",
    "import pandas as pd\n",
    "\n",
    "current_path = os.getcwd()\n",
    "root_path = os.path.abspath(os.path.join('../'))\n",
    "\n",
    "print(root_path)\n",
    "\n",
    "data_path = os.path.join(root_path, \"data\")\n",
    "\n",
    "print(data_path)"
   ]
  },
  {
   "cell_type": "code",
   "execution_count": 11,
   "id": "ea56b069",
   "metadata": {},
   "outputs": [],
   "source": [
    "import pandas as pd\n",
    "  \n",
    "# initialize list of lists\n",
    "data = [['Tom', 20, 0, 'Male', True, 5], ['Nick', 30, 4, 'Male', False, 20], ['Juli', 24, 2, 'Female', False, 16]]\n",
    "  \n",
    "# Create the pandas DataFrame\n",
    "df = pd.DataFrame(data, columns=['Name', 'Age', 'Work Exp', 'Sex', 'New Employee', 'Vocation Days'])\n",
    "\n",
    "csv_path = os.path.join(data_path, \"data.csv\")\n",
    "df.to_csv(csv_path)"
   ]
  },
  {
   "cell_type": "code",
   "execution_count": null,
   "id": "be12c87f",
   "metadata": {},
   "outputs": [],
   "source": []
  }
 ],
 "metadata": {
  "kernelspec": {
   "display_name": "Python 3 (ipykernel)",
   "language": "python",
   "name": "python3"
  },
  "language_info": {
   "codemirror_mode": {
    "name": "ipython",
    "version": 3
   },
   "file_extension": ".py",
   "mimetype": "text/x-python",
   "name": "python",
   "nbconvert_exporter": "python",
   "pygments_lexer": "ipython3",
   "version": "3.8.13"
  }
 },
 "nbformat": 4,
 "nbformat_minor": 5
}
